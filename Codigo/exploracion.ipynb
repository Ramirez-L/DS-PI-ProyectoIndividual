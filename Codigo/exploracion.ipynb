{
 "cells": [
  {
   "cell_type": "code",
   "execution_count": 1,
   "metadata": {},
   "outputs": [],
   "source": [
    "import pandas as pd\n",
    "import matplotlib.pyplot as plt\n",
    "import numpy as np"
   ]
  },
  {
   "cell_type": "code",
   "execution_count": 2,
   "metadata": {},
   "outputs": [],
   "source": [
    "# df_clientes = pd.read_csv(\"../Datasets/Clientes.csv\", sep=\",\", decimal=\",\")  ## SUPER MAL \n",
    "\n",
    "# df_compra = pd.read_csv(\"../Datasets/Compra.csv\", sep=\",\")  ## Bien \n",
    "\n",
    "# df_gasto = pd.read_csv(\"../Datasets/Gasto.csv\", sep=\",\")  ## Bien \n",
    "\n",
    "# df_localidades = pd.read_csv(\"../Datasets/Localidades.csv\", sep=\",\")  ## Bien \n",
    "\n",
    "# df_proveedores = pd.read_csv(\"../Datasets/Proveedores_2.csv\", sep=\",\", encoding= \"utf-8\")\n",
    "# # df_proveedores2 = pd.read_csv(\"../Datasets/Proveedores.csv\", sep=\",\", encoding= \"utf-8\", engine='python')\n",
    "\n",
    "# df_sucursales = pd.read_csv(\"../Datasets/Sucursales.csv\", sep=\";\")  ## Bien \n",
    "\n",
    "df_venta = pd.read_csv(\"../Datasets/Venta.csv\", sep=\",\")  ## Bien "
   ]
  },
  {
   "cell_type": "code",
   "execution_count": 3,
   "metadata": {},
   "outputs": [
    {
     "data": {
      "text/html": [
       "<div>\n",
       "<style scoped>\n",
       "    .dataframe tbody tr th:only-of-type {\n",
       "        vertical-align: middle;\n",
       "    }\n",
       "\n",
       "    .dataframe tbody tr th {\n",
       "        vertical-align: top;\n",
       "    }\n",
       "\n",
       "    .dataframe thead th {\n",
       "        text-align: right;\n",
       "    }\n",
       "</style>\n",
       "<table border=\"1\" class=\"dataframe\">\n",
       "  <thead>\n",
       "    <tr style=\"text-align: right;\">\n",
       "      <th></th>\n",
       "      <th>IdVenta</th>\n",
       "      <th>Fecha</th>\n",
       "      <th>Fecha_Entrega</th>\n",
       "      <th>IdCanal</th>\n",
       "      <th>IdCliente</th>\n",
       "      <th>IdSucursal</th>\n",
       "      <th>IdEmpleado</th>\n",
       "      <th>IdProducto</th>\n",
       "      <th>Precio</th>\n",
       "      <th>Cantidad</th>\n",
       "    </tr>\n",
       "  </thead>\n",
       "  <tbody>\n",
       "    <tr>\n",
       "      <th>0</th>\n",
       "      <td>1</td>\n",
       "      <td>2018-03-09</td>\n",
       "      <td>2018-03-17</td>\n",
       "      <td>3</td>\n",
       "      <td>969</td>\n",
       "      <td>13</td>\n",
       "      <td>1674</td>\n",
       "      <td>42817</td>\n",
       "      <td>813.12</td>\n",
       "      <td>2.0</td>\n",
       "    </tr>\n",
       "    <tr>\n",
       "      <th>1</th>\n",
       "      <td>2</td>\n",
       "      <td>2018-12-28</td>\n",
       "      <td>2018-12-29</td>\n",
       "      <td>2</td>\n",
       "      <td>884</td>\n",
       "      <td>13</td>\n",
       "      <td>1674</td>\n",
       "      <td>42795</td>\n",
       "      <td>543.18</td>\n",
       "      <td>3.0</td>\n",
       "    </tr>\n",
       "    <tr>\n",
       "      <th>2</th>\n",
       "      <td>3</td>\n",
       "      <td>2016-03-28</td>\n",
       "      <td>2016-03-31</td>\n",
       "      <td>2</td>\n",
       "      <td>1722</td>\n",
       "      <td>13</td>\n",
       "      <td>1674</td>\n",
       "      <td>42837</td>\n",
       "      <td>430.32</td>\n",
       "      <td>1.0</td>\n",
       "    </tr>\n",
       "    <tr>\n",
       "      <th>3</th>\n",
       "      <td>4</td>\n",
       "      <td>2017-10-23</td>\n",
       "      <td>2017-10-24</td>\n",
       "      <td>3</td>\n",
       "      <td>2876</td>\n",
       "      <td>13</td>\n",
       "      <td>1674</td>\n",
       "      <td>42834</td>\n",
       "      <td>818.84</td>\n",
       "      <td>2.0</td>\n",
       "    </tr>\n",
       "    <tr>\n",
       "      <th>4</th>\n",
       "      <td>5</td>\n",
       "      <td>2017-11-22</td>\n",
       "      <td>2017-11-25</td>\n",
       "      <td>2</td>\n",
       "      <td>678</td>\n",
       "      <td>13</td>\n",
       "      <td>1674</td>\n",
       "      <td>42825</td>\n",
       "      <td>554.18</td>\n",
       "      <td>3.0</td>\n",
       "    </tr>\n",
       "  </tbody>\n",
       "</table>\n",
       "</div>"
      ],
      "text/plain": [
       "   IdVenta       Fecha Fecha_Entrega  IdCanal  IdCliente  IdSucursal  \\\n",
       "0        1  2018-03-09    2018-03-17        3        969          13   \n",
       "1        2  2018-12-28    2018-12-29        2        884          13   \n",
       "2        3  2016-03-28    2016-03-31        2       1722          13   \n",
       "3        4  2017-10-23    2017-10-24        3       2876          13   \n",
       "4        5  2017-11-22    2017-11-25        2        678          13   \n",
       "\n",
       "   IdEmpleado  IdProducto  Precio  Cantidad  \n",
       "0        1674       42817  813.12       2.0  \n",
       "1        1674       42795  543.18       3.0  \n",
       "2        1674       42837  430.32       1.0  \n",
       "3        1674       42834  818.84       2.0  \n",
       "4        1674       42825  554.18       3.0  "
      ]
     },
     "execution_count": 3,
     "metadata": {},
     "output_type": "execute_result"
    }
   ],
   "source": [
    "df_venta.head()"
   ]
  },
  {
   "cell_type": "code",
   "execution_count": 4,
   "metadata": {},
   "outputs": [
    {
     "data": {
      "text/plain": [
       "Index(['IdVenta', 'Fecha', 'Fecha_Entrega', 'IdCanal', 'IdCliente',\n",
       "       'IdSucursal', 'IdEmpleado', 'IdProducto', 'Precio', 'Cantidad'],\n",
       "      dtype='object')"
      ]
     },
     "execution_count": 4,
     "metadata": {},
     "output_type": "execute_result"
    }
   ],
   "source": [
    "columnas = df_venta.columns\n",
    "columnas"
   ]
  },
  {
   "cell_type": "code",
   "execution_count": 5,
   "metadata": {},
   "outputs": [
    {
     "name": "stdout",
     "output_type": "stream",
     "text": [
      "<class 'pandas.core.frame.DataFrame'>\n",
      "RangeIndex: 46180 entries, 0 to 46179\n",
      "Data columns (total 10 columns):\n",
      " #   Column         Non-Null Count  Dtype  \n",
      "---  ------         --------------  -----  \n",
      " 0   IdVenta        46180 non-null  int64  \n",
      " 1   Fecha          46180 non-null  object \n",
      " 2   Fecha_Entrega  46180 non-null  object \n",
      " 3   IdCanal        46180 non-null  int64  \n",
      " 4   IdCliente      46180 non-null  int64  \n",
      " 5   IdSucursal     46180 non-null  int64  \n",
      " 6   IdEmpleado     46180 non-null  int64  \n",
      " 7   IdProducto     46180 non-null  int64  \n",
      " 8   Precio         45260 non-null  float64\n",
      " 9   Cantidad       45296 non-null  float64\n",
      "dtypes: float64(2), int64(6), object(2)\n",
      "memory usage: 3.5+ MB\n"
     ]
    }
   ],
   "source": [
    "datos = df_venta.info()"
   ]
  },
  {
   "cell_type": "code",
   "execution_count": 6,
   "metadata": {},
   "outputs": [
    {
     "name": "stdout",
     "output_type": "stream",
     "text": [
      "Esta columna: 'Precio' tiene un total de: 45260 registros\n",
      "     Fatan: 920\n",
      "Esta columna: 'Cantidad' tiene un total de: 45296 registros\n",
      "     Fatan: 884\n"
     ]
    }
   ],
   "source": [
    "resultado = []\n",
    "for columna in columnas:\n",
    "    total = df_venta[columna].count()\n",
    "    resultado.append(total)\n",
    "    if total < df_venta.shape[0]:\n",
    "        print(\"Esta columna: '\"+columna+\"' tiene un total de:\", total, \"registros\")\n",
    "        print(\"     Fatan:\",  df_venta.shape[0] - total)\n",
    "    "
   ]
  },
  {
   "cell_type": "code",
   "execution_count": 7,
   "metadata": {},
   "outputs": [
    {
     "data": {
      "text/plain": [
       "46180"
      ]
     },
     "execution_count": 7,
     "metadata": {},
     "output_type": "execute_result"
    }
   ],
   "source": [
    "df_venta.shape[0]"
   ]
  },
  {
   "cell_type": "code",
   "execution_count": 8,
   "metadata": {},
   "outputs": [],
   "source": [
    "totales = pd.Series(resultado)"
   ]
  },
  {
   "cell_type": "code",
   "execution_count": 9,
   "metadata": {},
   "outputs": [
    {
     "data": {
      "text/plain": [
       "0    46180\n",
       "1    46180\n",
       "2    46180\n",
       "3    46180\n",
       "4    46180\n",
       "5    46180\n",
       "6    46180\n",
       "7    46180\n",
       "8    45260\n",
       "9    45296\n",
       "dtype: int64"
      ]
     },
     "execution_count": 9,
     "metadata": {},
     "output_type": "execute_result"
    }
   ],
   "source": [
    "totales"
   ]
  },
  {
   "cell_type": "code",
   "execution_count": 10,
   "metadata": {},
   "outputs": [
    {
     "data": {
      "text/plain": [
       "0          IdVenta\n",
       "1            Fecha\n",
       "2    Fecha_Entrega\n",
       "3          IdCanal\n",
       "4        IdCliente\n",
       "5       IdSucursal\n",
       "6       IdEmpleado\n",
       "7       IdProducto\n",
       "8           Precio\n",
       "9         Cantidad\n",
       "dtype: object"
      ]
     },
     "execution_count": 10,
     "metadata": {},
     "output_type": "execute_result"
    }
   ],
   "source": [
    "colum = pd.Series(columnas)\n",
    "colum"
   ]
  },
  {
   "cell_type": "code",
   "execution_count": 11,
   "metadata": {},
   "outputs": [
    {
     "data": {
      "text/html": [
       "<div>\n",
       "<style scoped>\n",
       "    .dataframe tbody tr th:only-of-type {\n",
       "        vertical-align: middle;\n",
       "    }\n",
       "\n",
       "    .dataframe tbody tr th {\n",
       "        vertical-align: top;\n",
       "    }\n",
       "\n",
       "    .dataframe thead th {\n",
       "        text-align: right;\n",
       "    }\n",
       "</style>\n",
       "<table border=\"1\" class=\"dataframe\">\n",
       "  <thead>\n",
       "    <tr style=\"text-align: right;\">\n",
       "      <th></th>\n",
       "      <th>Atributo</th>\n",
       "      <th>Cantidad</th>\n",
       "      <th>Total</th>\n",
       "      <th>Q_%</th>\n",
       "      <th>Q_diff</th>\n",
       "    </tr>\n",
       "  </thead>\n",
       "  <tbody>\n",
       "    <tr>\n",
       "      <th>0</th>\n",
       "      <td>IdVenta</td>\n",
       "      <td>46180</td>\n",
       "      <td>46180</td>\n",
       "      <td>100.000000</td>\n",
       "      <td>0.000000</td>\n",
       "    </tr>\n",
       "    <tr>\n",
       "      <th>1</th>\n",
       "      <td>Fecha</td>\n",
       "      <td>46180</td>\n",
       "      <td>46180</td>\n",
       "      <td>100.000000</td>\n",
       "      <td>0.000000</td>\n",
       "    </tr>\n",
       "    <tr>\n",
       "      <th>2</th>\n",
       "      <td>Fecha_Entrega</td>\n",
       "      <td>46180</td>\n",
       "      <td>46180</td>\n",
       "      <td>100.000000</td>\n",
       "      <td>0.000000</td>\n",
       "    </tr>\n",
       "    <tr>\n",
       "      <th>3</th>\n",
       "      <td>IdCanal</td>\n",
       "      <td>46180</td>\n",
       "      <td>46180</td>\n",
       "      <td>100.000000</td>\n",
       "      <td>0.000000</td>\n",
       "    </tr>\n",
       "    <tr>\n",
       "      <th>4</th>\n",
       "      <td>IdCliente</td>\n",
       "      <td>46180</td>\n",
       "      <td>46180</td>\n",
       "      <td>100.000000</td>\n",
       "      <td>0.000000</td>\n",
       "    </tr>\n",
       "    <tr>\n",
       "      <th>5</th>\n",
       "      <td>IdSucursal</td>\n",
       "      <td>46180</td>\n",
       "      <td>46180</td>\n",
       "      <td>100.000000</td>\n",
       "      <td>0.000000</td>\n",
       "    </tr>\n",
       "    <tr>\n",
       "      <th>6</th>\n",
       "      <td>IdEmpleado</td>\n",
       "      <td>46180</td>\n",
       "      <td>46180</td>\n",
       "      <td>100.000000</td>\n",
       "      <td>0.000000</td>\n",
       "    </tr>\n",
       "    <tr>\n",
       "      <th>7</th>\n",
       "      <td>IdProducto</td>\n",
       "      <td>46180</td>\n",
       "      <td>46180</td>\n",
       "      <td>100.000000</td>\n",
       "      <td>0.000000</td>\n",
       "    </tr>\n",
       "    <tr>\n",
       "      <th>8</th>\n",
       "      <td>Precio</td>\n",
       "      <td>45260</td>\n",
       "      <td>46180</td>\n",
       "      <td>98.007796</td>\n",
       "      <td>1.992204</td>\n",
       "    </tr>\n",
       "    <tr>\n",
       "      <th>9</th>\n",
       "      <td>Cantidad</td>\n",
       "      <td>45296</td>\n",
       "      <td>46180</td>\n",
       "      <td>98.085751</td>\n",
       "      <td>1.914249</td>\n",
       "    </tr>\n",
       "  </tbody>\n",
       "</table>\n",
       "</div>"
      ],
      "text/plain": [
       "        Atributo  Cantidad  Total         Q_%    Q_diff\n",
       "0        IdVenta     46180  46180  100.000000  0.000000\n",
       "1          Fecha     46180  46180  100.000000  0.000000\n",
       "2  Fecha_Entrega     46180  46180  100.000000  0.000000\n",
       "3        IdCanal     46180  46180  100.000000  0.000000\n",
       "4      IdCliente     46180  46180  100.000000  0.000000\n",
       "5     IdSucursal     46180  46180  100.000000  0.000000\n",
       "6     IdEmpleado     46180  46180  100.000000  0.000000\n",
       "7     IdProducto     46180  46180  100.000000  0.000000\n",
       "8         Precio     45260  46180   98.007796  1.992204\n",
       "9       Cantidad     45296  46180   98.085751  1.914249"
      ]
     },
     "execution_count": 11,
     "metadata": {},
     "output_type": "execute_result"
    }
   ],
   "source": [
    "result = pd.concat([colum, totales], axis=1)\n",
    "result.rename(columns={0: \"Atributo\", 1: \"Cantidad\"}, inplace=True)\n",
    "result[\"Total\"] = df_venta.shape[0]\n",
    "result[\"Q_%\"] = result.Cantidad.values / result.Total.values * 100\n",
    "result[\"Q_diff\"] = 100 - result[\"Q_%\"]\n",
    "result"
   ]
  },
  {
   "cell_type": "code",
   "execution_count": 12,
   "metadata": {},
   "outputs": [
    {
     "data": {
      "image/png": "[encoded data removed]",
      "text/plain": [
       "<Figure size 432x288 with 1 Axes>"
      ]
     },
     "metadata": {
      "needs_background": "light"
     },
     "output_type": "display_data"
    }
   ],
   "source": [
    "X = result.Atributo\n",
    "y1 = result[\"Q_%\"]\n",
    "y2 = result[\"Q_diff\"]\n",
    "plt.bar(X, y1, label=\"Datos correctos\")\n",
    "plt.bar(X, y2, bottom=y1, label=\"Faltantes\")\n",
    "\n",
    "plt.title(\"Porcentaje de Datos Faltantes\", pad=20)\n",
    "plt.xlabel(\"Atributos\")\n",
    "plt.ylabel(\"Porcentaje\")\n",
    "plt.xticks(rotation=90)\n",
    "plt.legend(loc='upper left', bbox_to_anchor=(1,1), ncol=1)\n",
    "plt.show()"
   ]
  },
  {
   "cell_type": "code",
   "execution_count": 81,
   "metadata": {},
   "outputs": [
    {
     "data": {
      "text/html": [
       "<div>\n",
       "<style scoped>\n",
       "    .dataframe tbody tr th:only-of-type {\n",
       "        vertical-align: middle;\n",
       "    }\n",
       "\n",
       "    .dataframe tbody tr th {\n",
       "        vertical-align: top;\n",
       "    }\n",
       "\n",
       "    .dataframe thead th {\n",
       "        text-align: right;\n",
       "    }\n",
       "</style>\n",
       "<table border=\"1\" class=\"dataframe\">\n",
       "  <thead>\n",
       "    <tr style=\"text-align: right;\">\n",
       "      <th></th>\n",
       "      <th>Precio</th>\n",
       "    </tr>\n",
       "    <tr>\n",
       "      <th>IdProducto</th>\n",
       "      <th></th>\n",
       "    </tr>\n",
       "  </thead>\n",
       "  <tbody>\n",
       "    <tr>\n",
       "      <th>42737</th>\n",
       "      <td>4183.26</td>\n",
       "    </tr>\n",
       "    <tr>\n",
       "      <th>42754</th>\n",
       "      <td>3374.35</td>\n",
       "    </tr>\n",
       "    <tr>\n",
       "      <th>42755</th>\n",
       "      <td>4641.08</td>\n",
       "    </tr>\n",
       "    <tr>\n",
       "      <th>42756</th>\n",
       "      <td>2336.04</td>\n",
       "    </tr>\n",
       "    <tr>\n",
       "      <th>42757</th>\n",
       "      <td>4502.23</td>\n",
       "    </tr>\n",
       "    <tr>\n",
       "      <th>...</th>\n",
       "      <td>...</td>\n",
       "    </tr>\n",
       "    <tr>\n",
       "      <th>43039</th>\n",
       "      <td>1869.71</td>\n",
       "    </tr>\n",
       "    <tr>\n",
       "      <th>43040</th>\n",
       "      <td>757.00</td>\n",
       "    </tr>\n",
       "    <tr>\n",
       "      <th>43041</th>\n",
       "      <td>1350.27</td>\n",
       "    </tr>\n",
       "    <tr>\n",
       "      <th>43042</th>\n",
       "      <td>3966.62</td>\n",
       "    </tr>\n",
       "    <tr>\n",
       "      <th>43043</th>\n",
       "      <td>3019.66</td>\n",
       "    </tr>\n",
       "  </tbody>\n",
       "</table>\n",
       "<p>283 rows × 1 columns</p>\n",
       "</div>"
      ],
      "text/plain": [
       "             Precio\n",
       "IdProducto         \n",
       "42737       4183.26\n",
       "42754       3374.35\n",
       "42755       4641.08\n",
       "42756       2336.04\n",
       "42757       4502.23\n",
       "...             ...\n",
       "43039       1869.71\n",
       "43040        757.00\n",
       "43041       1350.27\n",
       "43042       3966.62\n",
       "43043       3019.66\n",
       "\n",
       "[283 rows x 1 columns]"
      ]
     },
     "execution_count": 81,
     "metadata": {},
     "output_type": "execute_result"
    }
   ],
   "source": [
    "promedio = df_venta[[\"IdProducto\", \"Precio\"]]\n",
    "promedio = promedio.groupby(promedio[\"IdProducto\"]).mean().round(2)\n",
    "promedio"
   ]
  },
  {
   "cell_type": "markdown",
   "metadata": {},
   "source": [
    "#### Tabla compra ----------->>"
   ]
  },
  {
   "cell_type": "code",
   "execution_count": 20,
   "metadata": {},
   "outputs": [],
   "source": [
    "df_compra = pd.read_csv(\"../Datasets/Compra.csv\", sep=\",\")  ## Bien \n"
   ]
  },
  {
   "cell_type": "code",
   "execution_count": 3,
   "metadata": {},
   "outputs": [
    {
     "data": {
      "text/html": [
       "<div>\n",
       "<style scoped>\n",
       "    .dataframe tbody tr th:only-of-type {\n",
       "        vertical-align: middle;\n",
       "    }\n",
       "\n",
       "    .dataframe tbody tr th {\n",
       "        vertical-align: top;\n",
       "    }\n",
       "\n",
       "    .dataframe thead th {\n",
       "        text-align: right;\n",
       "    }\n",
       "</style>\n",
       "<table border=\"1\" class=\"dataframe\">\n",
       "  <thead>\n",
       "    <tr style=\"text-align: right;\">\n",
       "      <th></th>\n",
       "      <th>IdCompra</th>\n",
       "      <th>Fecha</th>\n",
       "      <th>Fecha_Año</th>\n",
       "      <th>Fecha_Mes</th>\n",
       "      <th>Fecha_Periodo</th>\n",
       "      <th>IdProducto</th>\n",
       "      <th>Cantidad</th>\n",
       "      <th>Precio</th>\n",
       "      <th>IdProveedor</th>\n",
       "    </tr>\n",
       "  </thead>\n",
       "  <tbody>\n",
       "    <tr>\n",
       "      <th>0</th>\n",
       "      <td>1</td>\n",
       "      <td>1/30/2015</td>\n",
       "      <td>2015</td>\n",
       "      <td>1</td>\n",
       "      <td>201501</td>\n",
       "      <td>42832</td>\n",
       "      <td>13</td>\n",
       "      <td>560.51</td>\n",
       "      <td>12</td>\n",
       "    </tr>\n",
       "    <tr>\n",
       "      <th>1</th>\n",
       "      <td>2</td>\n",
       "      <td>1/30/2015</td>\n",
       "      <td>2015</td>\n",
       "      <td>1</td>\n",
       "      <td>201501</td>\n",
       "      <td>42833</td>\n",
       "      <td>11</td>\n",
       "      <td>497.58</td>\n",
       "      <td>7</td>\n",
       "    </tr>\n",
       "    <tr>\n",
       "      <th>2</th>\n",
       "      <td>3</td>\n",
       "      <td>1/30/2015</td>\n",
       "      <td>2015</td>\n",
       "      <td>1</td>\n",
       "      <td>201501</td>\n",
       "      <td>42834</td>\n",
       "      <td>1</td>\n",
       "      <td>588.50</td>\n",
       "      <td>6</td>\n",
       "    </tr>\n",
       "    <tr>\n",
       "      <th>3</th>\n",
       "      <td>4</td>\n",
       "      <td>1/30/2015</td>\n",
       "      <td>2015</td>\n",
       "      <td>1</td>\n",
       "      <td>201501</td>\n",
       "      <td>42835</td>\n",
       "      <td>9</td>\n",
       "      <td>567.66</td>\n",
       "      <td>14</td>\n",
       "    </tr>\n",
       "    <tr>\n",
       "      <th>4</th>\n",
       "      <td>5</td>\n",
       "      <td>1/30/2015</td>\n",
       "      <td>2015</td>\n",
       "      <td>1</td>\n",
       "      <td>201501</td>\n",
       "      <td>42839</td>\n",
       "      <td>14</td>\n",
       "      <td>231.31</td>\n",
       "      <td>2</td>\n",
       "    </tr>\n",
       "  </tbody>\n",
       "</table>\n",
       "</div>"
      ],
      "text/plain": [
       "   IdCompra      Fecha  Fecha_Año  Fecha_Mes  Fecha_Periodo  IdProducto  \\\n",
       "0         1  1/30/2015       2015          1         201501       42832   \n",
       "1         2  1/30/2015       2015          1         201501       42833   \n",
       "2         3  1/30/2015       2015          1         201501       42834   \n",
       "3         4  1/30/2015       2015          1         201501       42835   \n",
       "4         5  1/30/2015       2015          1         201501       42839   \n",
       "\n",
       "   Cantidad  Precio  IdProveedor  \n",
       "0        13  560.51           12  \n",
       "1        11  497.58            7  \n",
       "2         1  588.50            6  \n",
       "3         9  567.66           14  \n",
       "4        14  231.31            2  "
      ]
     },
     "execution_count": 3,
     "metadata": {},
     "output_type": "execute_result"
    }
   ],
   "source": [
    "df_compra.head()"
   ]
  },
  {
   "cell_type": "markdown",
   "metadata": {},
   "source": []
  },
  {
   "cell_type": "code",
   "execution_count": 5,
   "metadata": {},
   "outputs": [
    {
     "data": {
      "text/plain": [
       "Index(['IdCompra', 'Fecha', 'Fecha_Año', 'Fecha_Mes', 'Fecha_Periodo',\n",
       "       'IdProducto', 'Cantidad', 'Precio', 'IdProveedor'],\n",
       "      dtype='object')"
      ]
     },
     "execution_count": 5,
     "metadata": {},
     "output_type": "execute_result"
    }
   ],
   "source": [
    "columnas = df_compra.columns\n",
    "columnas"
   ]
  },
  {
   "cell_type": "code",
   "execution_count": 6,
   "metadata": {},
   "outputs": [
    {
     "name": "stdout",
     "output_type": "stream",
     "text": [
      "<class 'pandas.core.frame.DataFrame'>\n",
      "RangeIndex: 11539 entries, 0 to 11538\n",
      "Data columns (total 9 columns):\n",
      " #   Column         Non-Null Count  Dtype  \n",
      "---  ------         --------------  -----  \n",
      " 0   IdCompra       11539 non-null  int64  \n",
      " 1   Fecha          11539 non-null  object \n",
      " 2   Fecha_Año      11539 non-null  int64  \n",
      " 3   Fecha_Mes      11539 non-null  int64  \n",
      " 4   Fecha_Periodo  11539 non-null  int64  \n",
      " 5   IdProducto     11539 non-null  int64  \n",
      " 6   Cantidad       11539 non-null  int64  \n",
      " 7   Precio         11172 non-null  float64\n",
      " 8   IdProveedor    11539 non-null  int64  \n",
      "dtypes: float64(1), int64(7), object(1)\n",
      "memory usage: 811.5+ KB\n"
     ]
    }
   ],
   "source": [
    "df_compra.info()"
   ]
  },
  {
   "cell_type": "code",
   "execution_count": 7,
   "metadata": {},
   "outputs": [
    {
     "name": "stdout",
     "output_type": "stream",
     "text": [
      "Esta columna: 'Precio' tiene un total de: 11172 registros\n",
      "     Fatan: 367\n"
     ]
    }
   ],
   "source": [
    "resultado = []\n",
    "for columna in columnas:\n",
    "    total = df_compra[columna].count()\n",
    "    resultado.append(total)\n",
    "    if total < df_compra.shape[0]:\n",
    "        print(\"Esta columna: '\"+columna+\"' tiene un total de:\", total, \"registros\")\n",
    "        print(\"     Fatan:\",  df_compra.shape[0] - total)"
   ]
  },
  {
   "cell_type": "code",
   "execution_count": 8,
   "metadata": {},
   "outputs": [
    {
     "data": {
      "text/plain": [
       "11539"
      ]
     },
     "execution_count": 8,
     "metadata": {},
     "output_type": "execute_result"
    }
   ],
   "source": [
    "df_compra.shape[0]"
   ]
  },
  {
   "cell_type": "code",
   "execution_count": 9,
   "metadata": {},
   "outputs": [],
   "source": [
    "totales = pd.Series(resultado)"
   ]
  },
  {
   "cell_type": "code",
   "execution_count": 10,
   "metadata": {},
   "outputs": [
    {
     "data": {
      "text/plain": [
       "0         IdCompra\n",
       "1            Fecha\n",
       "2        Fecha_Año\n",
       "3        Fecha_Mes\n",
       "4    Fecha_Periodo\n",
       "5       IdProducto\n",
       "6         Cantidad\n",
       "7           Precio\n",
       "8      IdProveedor\n",
       "dtype: object"
      ]
     },
     "execution_count": 10,
     "metadata": {},
     "output_type": "execute_result"
    }
   ],
   "source": [
    "colum = pd.Series(columnas)\n",
    "colum"
   ]
  },
  {
   "cell_type": "code",
   "execution_count": 12,
   "metadata": {},
   "outputs": [
    {
     "data": {
      "text/html": [
       "<div>\n",
       "<style scoped>\n",
       "    .dataframe tbody tr th:only-of-type {\n",
       "        vertical-align: middle;\n",
       "    }\n",
       "\n",
       "    .dataframe tbody tr th {\n",
       "        vertical-align: top;\n",
       "    }\n",
       "\n",
       "    .dataframe thead th {\n",
       "        text-align: right;\n",
       "    }\n",
       "</style>\n",
       "<table border=\"1\" class=\"dataframe\">\n",
       "  <thead>\n",
       "    <tr style=\"text-align: right;\">\n",
       "      <th></th>\n",
       "      <th>Atributo</th>\n",
       "      <th>Cantidad</th>\n",
       "      <th>Total</th>\n",
       "      <th>Q_%</th>\n",
       "      <th>Q_diff</th>\n",
       "    </tr>\n",
       "  </thead>\n",
       "  <tbody>\n",
       "    <tr>\n",
       "      <th>0</th>\n",
       "      <td>IdCompra</td>\n",
       "      <td>11539</td>\n",
       "      <td>11539</td>\n",
       "      <td>100.000000</td>\n",
       "      <td>0.000000</td>\n",
       "    </tr>\n",
       "    <tr>\n",
       "      <th>1</th>\n",
       "      <td>Fecha</td>\n",
       "      <td>11539</td>\n",
       "      <td>11539</td>\n",
       "      <td>100.000000</td>\n",
       "      <td>0.000000</td>\n",
       "    </tr>\n",
       "    <tr>\n",
       "      <th>2</th>\n",
       "      <td>Fecha_Año</td>\n",
       "      <td>11539</td>\n",
       "      <td>11539</td>\n",
       "      <td>100.000000</td>\n",
       "      <td>0.000000</td>\n",
       "    </tr>\n",
       "    <tr>\n",
       "      <th>3</th>\n",
       "      <td>Fecha_Mes</td>\n",
       "      <td>11539</td>\n",
       "      <td>11539</td>\n",
       "      <td>100.000000</td>\n",
       "      <td>0.000000</td>\n",
       "    </tr>\n",
       "    <tr>\n",
       "      <th>4</th>\n",
       "      <td>Fecha_Periodo</td>\n",
       "      <td>11539</td>\n",
       "      <td>11539</td>\n",
       "      <td>100.000000</td>\n",
       "      <td>0.000000</td>\n",
       "    </tr>\n",
       "    <tr>\n",
       "      <th>5</th>\n",
       "      <td>IdProducto</td>\n",
       "      <td>11539</td>\n",
       "      <td>11539</td>\n",
       "      <td>100.000000</td>\n",
       "      <td>0.000000</td>\n",
       "    </tr>\n",
       "    <tr>\n",
       "      <th>6</th>\n",
       "      <td>Cantidad</td>\n",
       "      <td>11539</td>\n",
       "      <td>11539</td>\n",
       "      <td>100.000000</td>\n",
       "      <td>0.000000</td>\n",
       "    </tr>\n",
       "    <tr>\n",
       "      <th>7</th>\n",
       "      <td>Precio</td>\n",
       "      <td>11172</td>\n",
       "      <td>11539</td>\n",
       "      <td>96.819482</td>\n",
       "      <td>3.180518</td>\n",
       "    </tr>\n",
       "    <tr>\n",
       "      <th>8</th>\n",
       "      <td>IdProveedor</td>\n",
       "      <td>11539</td>\n",
       "      <td>11539</td>\n",
       "      <td>100.000000</td>\n",
       "      <td>0.000000</td>\n",
       "    </tr>\n",
       "  </tbody>\n",
       "</table>\n",
       "</div>"
      ],
      "text/plain": [
       "        Atributo  Cantidad  Total         Q_%    Q_diff\n",
       "0       IdCompra     11539  11539  100.000000  0.000000\n",
       "1          Fecha     11539  11539  100.000000  0.000000\n",
       "2      Fecha_Año     11539  11539  100.000000  0.000000\n",
       "3      Fecha_Mes     11539  11539  100.000000  0.000000\n",
       "4  Fecha_Periodo     11539  11539  100.000000  0.000000\n",
       "5     IdProducto     11539  11539  100.000000  0.000000\n",
       "6       Cantidad     11539  11539  100.000000  0.000000\n",
       "7         Precio     11172  11539   96.819482  3.180518\n",
       "8    IdProveedor     11539  11539  100.000000  0.000000"
      ]
     },
     "execution_count": 12,
     "metadata": {},
     "output_type": "execute_result"
    }
   ],
   "source": [
    "result = pd.concat([colum, totales], axis=1)\n",
    "result.rename(columns={0: \"Atributo\", 1: \"Cantidad\"}, inplace=True)\n",
    "result[\"Total\"] = df_compra.shape[0]\n",
    "result[\"Q_%\"] = result.Cantidad.values / result.Total.values * 100\n",
    "result[\"Q_diff\"] = 100 - result[\"Q_%\"]\n",
    "result"
   ]
  },
  {
   "cell_type": "code",
   "execution_count": 13,
   "metadata": {},
   "outputs": [
    {
     "data": {
      "image/png": "[encoded data removed]",
      "text/plain": [
       "<Figure size 432x288 with 1 Axes>"
      ]
     },
     "metadata": {
      "needs_background": "light"
     },
     "output_type": "display_data"
    }
   ],
   "source": [
    "X = result.Atributo\n",
    "y1 = result[\"Q_%\"]\n",
    "y2 = result[\"Q_diff\"]\n",
    "plt.bar(X, y1, label=\"Datos correctos\")\n",
    "plt.bar(X, y2, bottom=y1, label=\"Faltantes\")\n",
    "\n",
    "plt.title(\"Porcentaje de Datos Faltantes\", pad=20)\n",
    "plt.xlabel(\"Atributos\")\n",
    "plt.ylabel(\"Porcentaje\")\n",
    "plt.xticks(rotation=90)\n",
    "plt.legend(loc='upper left', bbox_to_anchor=(1,1), ncol=1)\n",
    "plt.show()"
   ]
  },
  {
   "cell_type": "code",
   "execution_count": 16,
   "metadata": {},
   "outputs": [],
   "source": [
    "import re\n",
    "\n",
    "# Formato de fecha para identificar si esta separado por guion medio\n",
    "date_format = re.compile(r'^[0-9]*\\-?[0-9]*\\-?[0-9]*$') "
   ]
  },
  {
   "cell_type": "code",
   "execution_count": 49,
   "metadata": {},
   "outputs": [
    {
     "data": {
      "text/plain": [
       "0        False\n",
       "1        False\n",
       "2        False\n",
       "3        False\n",
       "4        False\n",
       "         ...  \n",
       "11534    False\n",
       "11535    False\n",
       "11536    False\n",
       "11537    False\n",
       "11538    False\n",
       "Name: Error, Length: 11539, dtype: bool"
      ]
     },
     "execution_count": 49,
     "metadata": {},
     "output_type": "execute_result"
    }
   ],
   "source": [
    "incorrectos = df_compra[\"Fecha\"] == date_format\n",
    "incorrectos.rename(\"Error\", inplace=True)"
   ]
  },
  {
   "cell_type": "code",
   "execution_count": 30,
   "metadata": {},
   "outputs": [],
   "source": [
    "dates = df_compra[\"Fecha\"]"
   ]
  },
  {
   "cell_type": "code",
   "execution_count": 62,
   "metadata": {},
   "outputs": [],
   "source": [
    "result = pd.concat([dates, incorrectos], axis=1)\n",
    "result_correctos = result.Error[result.Error == True].count()\n",
    "result_incorrectos = result.Error[result.Error == False].count()"
   ]
  },
  {
   "cell_type": "code",
   "execution_count": 71,
   "metadata": {},
   "outputs": [
    {
     "data": {
      "image/png": "[encoded data removed]",
      "text/plain": [
       "<Figure size 432x288 with 1 Axes>"
      ]
     },
     "metadata": {
      "needs_background": "light"
     },
     "output_type": "display_data"
    }
   ],
   "source": [
    "X = [\"Correctos\", \"Incorrectos\"]\n",
    "y1 = [result_correctos, result_incorrectos]\n",
    "plt.bar(X, y1)\n",
    "\n",
    "plt.title(\"Cantidad de Datos\", pad=20)\n",
    "plt.ylabel(\"Cantidad\")\n",
    "plt.xticks(rotation=90)\n",
    "plt.show()"
   ]
  },
  {
   "cell_type": "code",
   "execution_count": 72,
   "metadata": {},
   "outputs": [
    {
     "data": {
      "text/plain": [
       "0         1-30-2015\n",
       "1         1-30-2015\n",
       "2         1-30-2015\n",
       "3         1-30-2015\n",
       "4         1-30-2015\n",
       "            ...    \n",
       "11534    12-25-2020\n",
       "11535    12-25-2020\n",
       "11536    12-25-2020\n",
       "11537    12-25-2020\n",
       "11538    12-25-2020\n",
       "Name: Fecha, Length: 11539, dtype: object"
      ]
     },
     "execution_count": 72,
     "metadata": {},
     "output_type": "execute_result"
    }
   ],
   "source": [
    "df_compra[\"Fecha\"] = df_compra[\"Fecha\"].str.replace(\"/\", \"-\")\n",
    "df_compra[\"Fecha\"]"
   ]
  },
  {
   "cell_type": "markdown",
   "metadata": {},
   "source": [
    "## Tabla Gastos ----------->>"
   ]
  },
  {
   "cell_type": "code",
   "execution_count": 73,
   "metadata": {},
   "outputs": [],
   "source": [
    "df_gasto = pd.read_csv(\"../Datasets/Gasto.csv\", sep=\",\")  ## Bien \n"
   ]
  },
  {
   "cell_type": "code",
   "execution_count": 86,
   "metadata": {},
   "outputs": [
    {
     "data": {
      "text/html": [
       "<div>\n",
       "<style scoped>\n",
       "    .dataframe tbody tr th:only-of-type {\n",
       "        vertical-align: middle;\n",
       "    }\n",
       "\n",
       "    .dataframe tbody tr th {\n",
       "        vertical-align: top;\n",
       "    }\n",
       "\n",
       "    .dataframe thead th {\n",
       "        text-align: right;\n",
       "    }\n",
       "</style>\n",
       "<table border=\"1\" class=\"dataframe\">\n",
       "  <thead>\n",
       "    <tr style=\"text-align: right;\">\n",
       "      <th></th>\n",
       "      <th>IdGasto</th>\n",
       "      <th>IdSucursal</th>\n",
       "      <th>IdTipoGasto</th>\n",
       "      <th>Fecha</th>\n",
       "      <th>Monto</th>\n",
       "    </tr>\n",
       "  </thead>\n",
       "  <tbody>\n",
       "    <tr>\n",
       "      <th>8635</th>\n",
       "      <td>8636</td>\n",
       "      <td>23</td>\n",
       "      <td>4</td>\n",
       "      <td>2020-12-01</td>\n",
       "      <td>1180.27</td>\n",
       "    </tr>\n",
       "    <tr>\n",
       "      <th>8636</th>\n",
       "      <td>8637</td>\n",
       "      <td>24</td>\n",
       "      <td>1</td>\n",
       "      <td>2020-12-01</td>\n",
       "      <td>1152.15</td>\n",
       "    </tr>\n",
       "    <tr>\n",
       "      <th>8637</th>\n",
       "      <td>8638</td>\n",
       "      <td>24</td>\n",
       "      <td>2</td>\n",
       "      <td>2020-12-01</td>\n",
       "      <td>305.98</td>\n",
       "    </tr>\n",
       "    <tr>\n",
       "      <th>8638</th>\n",
       "      <td>8639</td>\n",
       "      <td>24</td>\n",
       "      <td>3</td>\n",
       "      <td>2020-12-01</td>\n",
       "      <td>104.32</td>\n",
       "    </tr>\n",
       "    <tr>\n",
       "      <th>8639</th>\n",
       "      <td>8640</td>\n",
       "      <td>24</td>\n",
       "      <td>4</td>\n",
       "      <td>2020-12-01</td>\n",
       "      <td>1156.31</td>\n",
       "    </tr>\n",
       "  </tbody>\n",
       "</table>\n",
       "</div>"
      ],
      "text/plain": [
       "      IdGasto  IdSucursal  IdTipoGasto       Fecha    Monto\n",
       "8635     8636          23            4  2020-12-01  1180.27\n",
       "8636     8637          24            1  2020-12-01  1152.15\n",
       "8637     8638          24            2  2020-12-01   305.98\n",
       "8638     8639          24            3  2020-12-01   104.32\n",
       "8639     8640          24            4  2020-12-01  1156.31"
      ]
     },
     "execution_count": 86,
     "metadata": {},
     "output_type": "execute_result"
    }
   ],
   "source": [
    "df_gasto.tail()"
   ]
  },
  {
   "cell_type": "code",
   "execution_count": 76,
   "metadata": {},
   "outputs": [
    {
     "data": {
      "text/plain": [
       "Index(['IdGasto', 'IdSucursal', 'IdTipoGasto', 'Fecha', 'Monto'], dtype='object')"
      ]
     },
     "execution_count": 76,
     "metadata": {},
     "output_type": "execute_result"
    }
   ],
   "source": [
    "columnas = df_gasto.columns\n",
    "columnas"
   ]
  },
  {
   "cell_type": "code",
   "execution_count": 77,
   "metadata": {},
   "outputs": [
    {
     "name": "stdout",
     "output_type": "stream",
     "text": [
      "<class 'pandas.core.frame.DataFrame'>\n",
      "RangeIndex: 8640 entries, 0 to 8639\n",
      "Data columns (total 5 columns):\n",
      " #   Column       Non-Null Count  Dtype  \n",
      "---  ------       --------------  -----  \n",
      " 0   IdGasto      8640 non-null   int64  \n",
      " 1   IdSucursal   8640 non-null   int64  \n",
      " 2   IdTipoGasto  8640 non-null   int64  \n",
      " 3   Fecha        8640 non-null   object \n",
      " 4   Monto        8640 non-null   float64\n",
      "dtypes: float64(1), int64(3), object(1)\n",
      "memory usage: 337.6+ KB\n"
     ]
    }
   ],
   "source": [
    "df_gasto.info()"
   ]
  },
  {
   "cell_type": "code",
   "execution_count": 78,
   "metadata": {},
   "outputs": [],
   "source": [
    "resultado = []\n",
    "for columna in columnas:\n",
    "    total = df_gasto[columna].count()\n",
    "    resultado.append(total)\n",
    "    if total < df_gasto.shape[0]:\n",
    "        print(\"Esta columna: '\"+columna+\"' tiene un total de:\", total, \"registros\")\n",
    "        print(\"     Fatan:\",  df_gasto.shape[0] - total)\n"
   ]
  },
  {
   "cell_type": "code",
   "execution_count": 79,
   "metadata": {},
   "outputs": [
    {
     "data": {
      "text/plain": [
       "8640"
      ]
     },
     "execution_count": 79,
     "metadata": {},
     "output_type": "execute_result"
    }
   ],
   "source": [
    "df_gasto.shape[0]"
   ]
  },
  {
   "cell_type": "code",
   "execution_count": 80,
   "metadata": {},
   "outputs": [],
   "source": [
    "totales = pd.Series(resultado)"
   ]
  },
  {
   "cell_type": "code",
   "execution_count": 81,
   "metadata": {},
   "outputs": [
    {
     "data": {
      "text/plain": [
       "0        IdGasto\n",
       "1     IdSucursal\n",
       "2    IdTipoGasto\n",
       "3          Fecha\n",
       "4          Monto\n",
       "dtype: object"
      ]
     },
     "execution_count": 81,
     "metadata": {},
     "output_type": "execute_result"
    }
   ],
   "source": [
    "colum = pd.Series(columnas)\n",
    "colum"
   ]
  },
  {
   "cell_type": "code",
   "execution_count": 84,
   "metadata": {},
   "outputs": [
    {
     "data": {
      "text/html": [
       "<div>\n",
       "<style scoped>\n",
       "    .dataframe tbody tr th:only-of-type {\n",
       "        vertical-align: middle;\n",
       "    }\n",
       "\n",
       "    .dataframe tbody tr th {\n",
       "        vertical-align: top;\n",
       "    }\n",
       "\n",
       "    .dataframe thead th {\n",
       "        text-align: right;\n",
       "    }\n",
       "</style>\n",
       "<table border=\"1\" class=\"dataframe\">\n",
       "  <thead>\n",
       "    <tr style=\"text-align: right;\">\n",
       "      <th></th>\n",
       "      <th>Atributo</th>\n",
       "      <th>Cantidad</th>\n",
       "      <th>Total</th>\n",
       "      <th>Q_%</th>\n",
       "      <th>Q_diff</th>\n",
       "    </tr>\n",
       "  </thead>\n",
       "  <tbody>\n",
       "    <tr>\n",
       "      <th>0</th>\n",
       "      <td>IdGasto</td>\n",
       "      <td>8640</td>\n",
       "      <td>8640</td>\n",
       "      <td>100.0</td>\n",
       "      <td>0.0</td>\n",
       "    </tr>\n",
       "    <tr>\n",
       "      <th>1</th>\n",
       "      <td>IdSucursal</td>\n",
       "      <td>8640</td>\n",
       "      <td>8640</td>\n",
       "      <td>100.0</td>\n",
       "      <td>0.0</td>\n",
       "    </tr>\n",
       "    <tr>\n",
       "      <th>2</th>\n",
       "      <td>IdTipoGasto</td>\n",
       "      <td>8640</td>\n",
       "      <td>8640</td>\n",
       "      <td>100.0</td>\n",
       "      <td>0.0</td>\n",
       "    </tr>\n",
       "    <tr>\n",
       "      <th>3</th>\n",
       "      <td>Fecha</td>\n",
       "      <td>8640</td>\n",
       "      <td>8640</td>\n",
       "      <td>100.0</td>\n",
       "      <td>0.0</td>\n",
       "    </tr>\n",
       "    <tr>\n",
       "      <th>4</th>\n",
       "      <td>Monto</td>\n",
       "      <td>8640</td>\n",
       "      <td>8640</td>\n",
       "      <td>100.0</td>\n",
       "      <td>0.0</td>\n",
       "    </tr>\n",
       "  </tbody>\n",
       "</table>\n",
       "</div>"
      ],
      "text/plain": [
       "      Atributo  Cantidad  Total    Q_%  Q_diff\n",
       "0      IdGasto      8640   8640  100.0     0.0\n",
       "1   IdSucursal      8640   8640  100.0     0.0\n",
       "2  IdTipoGasto      8640   8640  100.0     0.0\n",
       "3        Fecha      8640   8640  100.0     0.0\n",
       "4        Monto      8640   8640  100.0     0.0"
      ]
     },
     "execution_count": 84,
     "metadata": {},
     "output_type": "execute_result"
    }
   ],
   "source": [
    "result = pd.concat([colum, totales], axis=1)\n",
    "result.rename(columns={0: \"Atributo\", 1: \"Cantidad\"}, inplace=True)\n",
    "result[\"Total\"] = df_gasto.shape[0]\n",
    "result[\"Q_%\"] = result.Cantidad.values / result.Total.values * 100\n",
    "result[\"Q_diff\"] = 100 - result[\"Q_%\"]\n",
    "result"
   ]
  },
  {
   "cell_type": "code",
   "execution_count": 85,
   "metadata": {},
   "outputs": [
    {
     "data": {
      "image/png": "[encoded data removed]",
      "text/plain": [
       "<Figure size 432x288 with 1 Axes>"
      ]
     },
     "metadata": {
      "needs_background": "light"
     },
     "output_type": "display_data"
    }
   ],
   "source": [
    "X = result.Atributo\n",
    "y1 = result[\"Q_%\"]\n",
    "y2 = result[\"Q_diff\"]\n",
    "plt.bar(X, y1, label=\"Datos correctos\")\n",
    "plt.bar(X, y2, bottom=y1, label=\"Faltantes\")\n",
    "\n",
    "plt.title(\"Porcentaje de Datos Faltantes\", pad=20)\n",
    "plt.xlabel(\"Atributos\")\n",
    "plt.ylabel(\"Porcentaje\")\n",
    "plt.xticks(rotation=90)\n",
    "plt.legend(loc='upper left', bbox_to_anchor=(1,1), ncol=1)\n",
    "plt.show()"
   ]
  }
 ],
 "metadata": {
  "kernelspec": {
   "display_name": "Python 3.10.4 64-bit",
   "language": "python",
   "name": "python3"
  },
  "language_info": {
   "codemirror_mode": {
    "name": "ipython",
    "version": 3
   },
   "file_extension": ".py",
   "mimetype": "text/x-python",
   "name": "python",
   "nbconvert_exporter": "python",
   "pygments_lexer": "ipython3",
   "version": "3.10.4"
  },
  "orig_nbformat": 4,
  "vscode": {
   "interpreter": {
    "hash": "126c3a0ce2a7a2deaf72b96d74622cd1f78bb27d76940ace510d823b4fb9b229"
   }
  }
 },
 "nbformat": 4,
 "nbformat_minor": 2
}
